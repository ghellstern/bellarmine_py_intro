{
 "cells": [
  {
   "cell_type": "markdown",
   "metadata": {},
   "source": [
    "# Python Tricks\n",
    "***"
   ]
  },
  {
   "cell_type": "markdown",
   "metadata": {},
   "source": [
    "# License\n",
    "\n",
    "Copyright (c) 2017 by Patrick Hall, jpatrickhall@gmail.com\n",
    "Licensed under the Apache License, Version 2.0 (the \"License\");\n",
    "you may not use this file except in compliance with the License.\n",
    "You may obtain a copy of the License at\n",
    "\n",
    "   http://www.apache.org/licenses/LICENSE-2.0\n",
    "   \n",
    "Unless required by applicable law or agreed to in writing, software\n",
    "distributed under the License is distributed on an \"AS IS\" BASIS,\n",
    "WITHOUT WARRANTIES OR CONDITIONS OF ANY KIND, either express or implied.\n",
    "See the License for the specific language governing permissions and\n",
    "limitations under the License.\n",
    "\n",
    "***"
   ]
  },
  {
   "cell_type": "markdown",
   "metadata": {},
   "source": [
    "## Explicit integer division"
   ]
  },
  {
   "cell_type": "code",
   "execution_count": 1,
   "metadata": {
    "collapsed": false
   },
   "outputs": [
    {
     "data": {
      "text/plain": [
       "float"
      ]
     },
     "execution_count": 1,
     "metadata": {},
     "output_type": "execute_result"
    }
   ],
   "source": [
    "type(4/2) # float"
   ]
  },
  {
   "cell_type": "code",
   "execution_count": 2,
   "metadata": {
    "collapsed": false
   },
   "outputs": [
    {
     "data": {
      "text/plain": [
       "int"
      ]
     },
     "execution_count": 2,
     "metadata": {},
     "output_type": "execute_result"
    }
   ],
   "source": [
    "type(4//2) # int, double slash performs integer division"
   ]
  },
  {
   "cell_type": "markdown",
   "metadata": {},
   "source": [
    "## Helpful numeric formats"
   ]
  },
  {
   "cell_type": "code",
   "execution_count": 3,
   "metadata": {
    "collapsed": false
   },
   "outputs": [
    {
     "name": "stdout",
     "output_type": "stream",
     "text": [
      "\n",
      "Compact decimal notation: 1234.57 \n",
      "Compact scientific notation: 1.234568e+03\n",
      "Percent sign: 1234.57%\n",
      "\n"
     ]
    }
   ],
   "source": [
    "# printf-like syntax\n",
    "# \"\"\" allows printed statements in multiple lines\n",
    "\n",
    "print(\"\"\"\n",
    "Compact decimal notation: %g \n",
    "Compact scientific notation: %e\n",
    "Percent sign: %.2f%%\n",
    "\"\"\" % (1234.5678, 1234.5678, 1234.5678))"
   ]
  },
  {
   "cell_type": "code",
   "execution_count": 4,
   "metadata": {
    "collapsed": false
   },
   "outputs": [
    {
     "name": "stdout",
     "output_type": "stream",
     "text": [
      "\n",
      "Compact decimal notation: 1234.57\n",
      "Compact scientific notation: 1.234568e+03\n",
      "Percent sign: 1234.57%\n",
      "\n"
     ]
    }
   ],
   "source": [
    "# format string syntax\n",
    "\n",
    "print(\"\"\"\n",
    "Compact decimal notation: {dec_:g}\n",
    "Compact scientific notation: {exp_:e}\n",
    "Percent sign: {per_:.2f}%\n",
    "\"\"\".format(dec_=1234.5678, exp_=1234.5678, per_=1234.5678))"
   ]
  },
  {
   "cell_type": "markdown",
   "metadata": {},
   "source": [
    "## Symbolic math with sympy"
   ]
  },
  {
   "cell_type": "code",
   "execution_count": 5,
   "metadata": {
    "collapsed": true
   },
   "outputs": [],
   "source": [
    "from sympy import (\n",
    "    symbols,    # define symbols\n",
    "    diff,       # derivatives\n",
    "    integrate,  # integrals\n",
    "    lambdify,   # symbolic expression -> python function\n",
    "    latex,      # create latex expressions\n",
    "    sin         # symbolic sine function\n",
    ")\n",
    "\n",
    "x = symbols('x')\n",
    "y = sin(x)"
   ]
  },
  {
   "cell_type": "code",
   "execution_count": 6,
   "metadata": {
    "collapsed": false
   },
   "outputs": [
    {
     "data": {
      "text/plain": [
       "cos(x)"
      ]
     },
     "execution_count": 6,
     "metadata": {},
     "output_type": "execute_result"
    }
   ],
   "source": [
    "dydx = diff(y, x)\n",
    "dydx"
   ]
  },
  {
   "cell_type": "code",
   "execution_count": 7,
   "metadata": {
    "collapsed": false
   },
   "outputs": [
    {
     "data": {
      "text/plain": [
       "sin(x)"
      ]
     },
     "execution_count": 7,
     "metadata": {},
     "output_type": "execute_result"
    }
   ],
   "source": [
    "integrate(dydx)"
   ]
  },
  {
   "cell_type": "code",
   "execution_count": 8,
   "metadata": {
    "collapsed": false
   },
   "outputs": [],
   "source": [
    "f = lambdify(x, y)"
   ]
  },
  {
   "cell_type": "code",
   "execution_count": 9,
   "metadata": {
    "collapsed": false
   },
   "outputs": [
    {
     "data": {
      "text/plain": [
       "1.0"
      ]
     },
     "execution_count": 9,
     "metadata": {},
     "output_type": "execute_result"
    }
   ],
   "source": [
    "from math import pi\n",
    "f(pi/2)"
   ]
  },
  {
   "cell_type": "code",
   "execution_count": 10,
   "metadata": {
    "collapsed": false
   },
   "outputs": [
    {
     "data": {
      "text/plain": [
       "x - x**3/6 + x**5/120 + O(x**6)"
      ]
     },
     "execution_count": 10,
     "metadata": {},
     "output_type": "execute_result"
    }
   ],
   "source": [
    "y.series(x, 0, 6)"
   ]
  },
  {
   "cell_type": "code",
   "execution_count": 11,
   "metadata": {
    "collapsed": false
   },
   "outputs": [
    {
     "name": "stdout",
     "output_type": "stream",
     "text": [
      "x - \\frac{x^{3}}{6} + \\frac{x^{5}}{120} + \\mathcal{O}\\left(x^{6}\\right)\n"
     ]
    }
   ],
   "source": [
    "print(latex(y.series(x, 0, 6)))"
   ]
  },
  {
   "cell_type": "code",
   "execution_count": 12,
   "metadata": {
    "collapsed": false
   },
   "outputs": [
    {
     "data": {
      "text/latex": [
       "$$x - \\frac{x^{3}}{6} + \\frac{x^{5}}{120} + \\mathcal{O}\\left(x^{6}\\right)$$"
      ],
      "text/plain": [
       "<IPython.core.display.Math object>"
      ]
     },
     "metadata": {},
     "output_type": "display_data"
    }
   ],
   "source": [
    "from IPython.display import display, Math\n",
    "display(Math(latex(y.series(x, 0, 6))))"
   ]
  },
  {
   "cell_type": "markdown",
   "metadata": {},
   "source": [
    "## Viewing doc strings with `__doc__`\n",
    "* Also using zip() for multiple list processing "
   ]
  },
  {
   "cell_type": "code",
   "execution_count": 13,
   "metadata": {
    "collapsed": true
   },
   "outputs": [],
   "source": [
    "list1 = ['a', 'b', 'c', 'd', 'e']\n",
    "list2 = [1, 2, 3, 4, 5]\n",
    "\n",
    "def f(list1, list2):\n",
    "    \n",
    "    \"\"\" Uses zip to process 2 lists in parallel.\n",
    "    \n",
    "    Args:\n",
    "        list1: first list.\n",
    "        list2: second list.\n",
    "    \n",
    "    \"\"\"\n",
    "    \n",
    "    for i, j in zip(list1, list2):\n",
    "        print(i, j)\n",
    "    "
   ]
  },
  {
   "cell_type": "code",
   "execution_count": 14,
   "metadata": {
    "collapsed": false
   },
   "outputs": [
    {
     "name": "stdout",
     "output_type": "stream",
     "text": [
      " Uses zip to process 2 lists in parallel.\n",
      "    \n",
      "    Args:\n",
      "        list1: first list.\n",
      "        list2: second list.\n",
      "    \n",
      "    \n"
     ]
    }
   ],
   "source": [
    "print(f.__doc__)"
   ]
  },
  {
   "cell_type": "code",
   "execution_count": 15,
   "metadata": {
    "collapsed": false
   },
   "outputs": [
    {
     "name": "stdout",
     "output_type": "stream",
     "text": [
      "a 1\n",
      "b 2\n",
      "c 3\n",
      "d 4\n",
      "e 5\n"
     ]
    }
   ],
   "source": [
    "f(list1, list2)"
   ]
  },
  {
   "cell_type": "markdown",
   "metadata": {},
   "source": [
    "## Profiling code snippet performance with timeit \n",
    "* Notice performance increase when list is pre-initialized"
   ]
  },
  {
   "cell_type": "code",
   "execution_count": 16,
   "metadata": {
    "collapsed": false
   },
   "outputs": [
    {
     "name": "stdout",
     "output_type": "stream",
     "text": [
      "0.49890465568751097\n",
      "0.777325218077749\n"
     ]
    }
   ],
   "source": [
    "import timeit\n",
    "n = 10000000\n",
    "list3 = [0]*n\n",
    "list4 = []\n",
    "print(timeit.timeit('for i in range(0, n): list3[i] = i', number=1, setup='from __main__ import n, list3'))\n",
    "print(timeit.timeit('for i in range(0, n): list4.append(i)', number=1, setup='from __main__ import n, list4'))"
   ]
  },
  {
   "cell_type": "markdown",
   "metadata": {},
   "source": [
    "## Passing a variable number of function arguments with **kwargs"
   ]
  },
  {
   "cell_type": "code",
   "execution_count": 17,
   "metadata": {
    "collapsed": false
   },
   "outputs": [
    {
     "name": "stdout",
     "output_type": "stream",
     "text": [
      "a = hello\n",
      "----------\n",
      "a = hello\n",
      "b = world\n",
      "----------\n",
      "a = goodbye\n",
      "b = cruel\n",
      "c = world\n",
      "----------\n"
     ]
    }
   ],
   "source": [
    "# use the **kwargs variable to pass in any number of \n",
    "# keyword arguments to a function\n",
    "def f(**kwargs):\n",
    "    \n",
    "    # kwargs is a dict\n",
    "    if kwargs is not None:\n",
    "        for key, val in sorted(kwargs.items()):\n",
    "            print('%s = %s' %(key, val))\n",
    "            \n",
    "    print('----------')\n",
    "        \n",
    "f(a='hello')\n",
    "f(a='hello', b='world')\n",
    "f(a='goodbye', b='cruel', c='world')"
   ]
  },
  {
   "cell_type": "markdown",
   "metadata": {},
   "source": [
    "## Function passing"
   ]
  },
  {
   "cell_type": "code",
   "execution_count": 18,
   "metadata": {
    "collapsed": false
   },
   "outputs": [
    {
     "name": "stdout",
     "output_type": "stream",
     "text": [
      "0.0\n",
      "0.9999833334166665\n",
      "0.9999999999998334\n"
     ]
    }
   ],
   "source": [
    "# import numeric sine function\n",
    "from math import sin\n",
    "print(sin(0))\n",
    "\n",
    "# simple function for numerical derivative of f at x\n",
    "def num_dfdx(f, x, h):\n",
    "    \n",
    "    return (f(x + h) - f(x))/float(h)\n",
    "\n",
    "print(num_dfdx(sin, 0, 0.01))\n",
    "print(num_dfdx(sin, 0, 1e-6))"
   ]
  },
  {
   "cell_type": "markdown",
   "metadata": {},
   "source": [
    "## In-line if/then statements"
   ]
  },
  {
   "cell_type": "code",
   "execution_count": 19,
   "metadata": {
    "collapsed": false
   },
   "outputs": [
    {
     "name": "stdout",
     "output_type": "stream",
     "text": [
      "small\n",
      "big\n"
     ]
    }
   ],
   "source": [
    "# value1 if condition else value2\n",
    "def magnitude(x):\n",
    "    \n",
    "    # value1 if condition else value2\n",
    "    return 'small' if 1 >= x >= -1 else 'big'\n",
    "\n",
    "print(magnitude(0.5))\n",
    "print(magnitude(-10))"
   ]
  },
  {
   "cell_type": "markdown",
   "metadata": {},
   "source": [
    "## Anonymous (lambda) functions\n",
    "* Define simple functions in one line of code"
   ]
  },
  {
   "cell_type": "code",
   "execution_count": 20,
   "metadata": {
    "collapsed": false
   },
   "outputs": [
    {
     "data": {
      "text/plain": [
       "2.0000009999243673"
      ]
     },
     "execution_count": 20,
     "metadata": {},
     "output_type": "execute_result"
    }
   ],
   "source": [
    "num_dfdx(lambda x: x**2, 1, 1e-6)"
   ]
  },
  {
   "cell_type": "code",
   "execution_count": 21,
   "metadata": {
    "collapsed": false
   },
   "outputs": [
    {
     "name": "stdout",
     "output_type": "stream",
     "text": [
      "small\n"
     ]
    }
   ],
   "source": [
    "magnitude = lambda x: 'small' if 1 >= x >= -1 else 'big'\n",
    "print(magnitude(0.5))"
   ]
  },
  {
   "cell_type": "code",
   "execution_count": 22,
   "metadata": {
    "collapsed": false
   },
   "outputs": [
    {
     "data": {
      "text/plain": [
       "[0, 1, 4, 9, 16, 25, 36, 49, 64, 81]"
      ]
     },
     "execution_count": 22,
     "metadata": {},
     "output_type": "execute_result"
    }
   ],
   "source": [
    "# map and lamba used often to apply a simple function\n",
    "# to all elements in a list\n",
    "list(map(lambda x: x**2, range(0,10)))"
   ]
  }
 ],
 "metadata": {
  "anaconda-cloud": {},
  "kernelspec": {
   "display_name": "Python [conda root]",
   "language": "python",
   "name": "conda-root-py"
  },
  "language_info": {
   "codemirror_mode": {
    "name": "ipython",
    "version": 3
   },
   "file_extension": ".py",
   "mimetype": "text/x-python",
   "name": "python",
   "nbconvert_exporter": "python",
   "pygments_lexer": "ipython3",
   "version": "3.5.2"
  }
 },
 "nbformat": 4,
 "nbformat_minor": 2
}
