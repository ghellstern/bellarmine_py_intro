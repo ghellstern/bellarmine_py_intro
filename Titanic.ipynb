{
 "metadata": {
  "celltoolbar": "Slideshow",
  "name": "",
  "signature": "sha256:4a96a48df6683890caa93e788e342a89271220c26a25f42c065cbc09be97bd6e"
 },
 "nbformat": 3,
 "nbformat_minor": 0,
 "worksheets": [
  {
   "cells": [
    {
     "cell_type": "heading",
     "level": 2,
     "metadata": {},
     "source": [
      "Let's construct a simple stacked bar chart to visualize our Titanic analysis. "
     ]
    },
    {
     "cell_type": "heading",
     "level": 4,
     "metadata": {},
     "source": [
      "Import the training data."
     ]
    },
    {
     "cell_type": "code",
     "collapsed": false,
     "input": [
      "import csv as csv\n",
      "import numpy as np\n",
      "\n",
      "o= open('train.csv', 'rb')\n",
      "csv_file= csv.reader(o)                                # Load the csv file.\n",
      "header= csv_file.next()                                # Skip the first line as it is a header.\n",
      "data= []                                               # Create a variable to hold the data.\n",
      "\n",
      "for row in csv_file:                                   # Skip through each row in the csv file,\n",
      "    data.append(row[0:])                               # adding each row to the data variable.\n",
      "data= np.array(data)                                   # Then convert from a list to a Numpy array.\n",
      "o.close()"
     ],
     "language": "python",
     "metadata": {},
     "outputs": [],
     "prompt_number": 8
    },
    {
     "cell_type": "heading",
     "level": 4,
     "metadata": {},
     "source": [
      "Import matplotlib library and Numpy:"
     ]
    },
    {
     "cell_type": "code",
     "collapsed": false,
     "input": [
      "# Import matplotlib and allow it to plot in the notebook.\n",
      "import matplotlib.pyplot as plt\n",
      "%matplotlib inline                                     \n",
      "\n",
      "# Import Numpy\n",
      "import numpy as np"
     ],
     "language": "python",
     "metadata": {},
     "outputs": [],
     "prompt_number": 19
    },
    {
     "cell_type": "heading",
     "level": 4,
     "metadata": {},
     "source": [
      " Set some configurations for the plot: "
     ]
    },
    {
     "cell_type": "heading",
     "level": 6,
     "metadata": {},
     "source": [
      "The location along the x-axis where the bars will sit.\n"
     ]
    },
    {
     "cell_type": "code",
     "collapsed": false,
     "input": [
      "bottom_locs= np.array([1.,2.])"
     ],
     "language": "python",
     "metadata": {},
     "outputs": [],
     "prompt_number": 5
    },
    {
     "cell_type": "heading",
     "level": 6,
     "metadata": {},
     "source": [
      "The width of the bars."
     ]
    },
    {
     "cell_type": "code",
     "collapsed": false,
     "input": [
      "width= 0.3"
     ],
     "language": "python",
     "metadata": {},
     "outputs": [],
     "prompt_number": 6
    },
    {
     "cell_type": "heading",
     "level": 4,
     "metadata": {},
     "source": [
      "Generate the actual values to plot:"
     ]
    },
    {
     "cell_type": "heading",
     "level": 6,
     "metadata": {},
     "source": [
      "The number of men that died and that survived."
     ]
    },
    {
     "cell_type": "code",
     "collapsed": false,
     "input": [
      "men_only_stats= data[0::,4] != \"female\"                   # This finds where all the men are in the data set. \n",
      "men_onboard= data[men_only_stats,1].astype(np.float)      # 1st column of data (survived= 0,1), but only men\n",
      "men= (np.size(men_onboard)-np.sum(men_onboard), np.sum(men_onboard))"
     ],
     "language": "python",
     "metadata": {},
     "outputs": [],
     "prompt_number": 9
    },
    {
     "cell_type": "heading",
     "level": 4,
     "metadata": {},
     "source": [
      "The number of women that died and that survived."
     ]
    },
    {
     "cell_type": "code",
     "collapsed": false,
     "input": [
      "women_only_stats= data[0::,4] == \"female\"                 # This finds where all the women are in the data set.\n",
      "women_onboard= data[women_only_stats,1].astype(np.float)  # 1st column of data (survived= 0,1), but only women. \n",
      "women= (np.size(women_onboard)-np.sum(women_onboard), np.sum(women_onboard))"
     ],
     "language": "python",
     "metadata": {},
     "outputs": [],
     "prompt_number": 11
    },
    {
     "cell_type": "heading",
     "level": 4,
     "metadata": {},
     "source": [
      "Generate the plot."
     ]
    },
    {
     "cell_type": "code",
     "collapsed": false,
     "input": [
      "# Add the values to the plot.\n",
      "plt.bar(bottom_locs, men, label= 'Male', width= width)\n",
      "plt.bar(bottom_locs, women, color= 'm', label= 'Female', width= width, bottom= men)\n",
      "\n",
      "# Decorate the plot.\n",
      "plt.ylabel('Count')\n",
      "plt.title(\"Who Survived the Titanic?\")\n",
      "plt.legend(loc='best')\n",
      "plt.xticks(bottom_locs+width/2., ('Died', 'Survived'))"
     ],
     "language": "python",
     "metadata": {},
     "outputs": [
      {
       "metadata": {},
       "output_type": "pyout",
       "prompt_number": 24,
       "text": [
        "([<matplotlib.axis.XTick at 0x7f61c7d07dd0>,\n",
        "  <matplotlib.axis.XTick at 0x7f61c7c90650>],\n",
        " <a list of 2 Text xticklabel objects>)"
       ]
      },
      {
       "metadata": {},
       "output_type": "display_data",
       "png": "[encoded data removed]",
       "text": [
        "<matplotlib.figure.Figure at 0x7f61c7df34d0>"
       ]
      }
     ],
     "prompt_number": 24
    }
   ],
   "metadata": {}
  }
 ]
}